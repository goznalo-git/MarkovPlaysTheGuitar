{
 "cells": [
  {
   "cell_type": "markdown",
   "id": "24176fa4-84a7-4783-9a8c-ba9f3ecccbed",
   "metadata": {},
   "source": [
    "# Random walks and tabs from computed Markov chains"
   ]
  },
  {
   "cell_type": "code",
   "execution_count": 1,
   "id": "cbddfc8b-d84e-4f3d-9c90-69ce41d4b463",
   "metadata": {},
   "outputs": [],
   "source": [
    "import networkx as nx\n",
    "import numpy as np\n",
    "import guitarpro as gp\n",
    "import copy\n",
    "\n",
    "from custom_functions import *"
   ]
  },
  {
   "cell_type": "code",
   "execution_count": 3,
   "id": "a863ff03-d632-413f-9bd7-72c10ec652df",
   "metadata": {},
   "outputs": [],
   "source": [
    "song = gp.parse(\"Ginpatsu_no_shounen_Killua.gp5\", encoding='UTF-8')"
   ]
  },
  {
   "cell_type": "code",
   "execution_count": 4,
   "id": "417d8812-71a3-4213-ab20-0185e260b954",
   "metadata": {},
   "outputs": [],
   "source": [
    "def render_tab(walk, tuning=['e','A','D','G','B','E'], measure = ['|','|','|','|','|','|'], separator = ['--','--','--','--','--','--']):\n",
    "    '''\n",
    "    From a random walk, write the corresponding tab.\n",
    "    '''\n",
    "    \n",
    "    def transpose(M):\n",
    "        return [[M[j][i] for j in range(len(M))] for i in range(len(M[0]))]\n",
    "\n",
    "    n = len(walk)\n",
    "    \n",
    "    T = [tuning, measure, measure, separator]\n",
    "    \n",
    "    # Separate the walk in beats\n",
    "    for beat in walk:\n",
    "        \n",
    "        # Initialize the vertical line to add\n",
    "        vertline = copy.copy(separator)\n",
    "\n",
    "        # Count the notes with single digit frets\n",
    "        single_digit = 0\n",
    "        \n",
    "        # Add the corresponding notes to the vertical line\n",
    "        for subnote in beat.split('-'):\n",
    "            string = letter_to_string(subnote[-1])\n",
    "            fret = str(subnote[:-1])\n",
    "            \n",
    "            # Convert single digits to two digits\n",
    "            if len(fret) == 1:\n",
    "                fret = '-' + fret\n",
    "                single_digit += 1\n",
    "            \n",
    "            vertline[string] = fret\n",
    "            \n",
    "        # Remove the extra dash if all of the notes in the \n",
    "        # vertical line have single digit frets\n",
    "        if single_digit == len(beat.split('-')):\n",
    "            vertline = [v[1] for v in vertline]  \n",
    "        \n",
    "        T.append(vertline)\n",
    "        T.append(separator)\n",
    "    \n",
    "    T = transpose(T)    \n",
    "    \n",
    "    tab = ''\n",
    "    \n",
    "    for line in T:\n",
    "        tab += ''.join(line) + '\\n'\n",
    "    \n",
    "    return tab\n",
    "    "
   ]
  },
  {
   "cell_type": "markdown",
   "id": "21938811-bd5c-412e-869e-3e0e8ce52d63",
   "metadata": {},
   "source": [
    "## Memory-less"
   ]
  },
  {
   "cell_type": "code",
   "execution_count": 5,
   "id": "8f5fe72e-faad-493e-a52e-86d412e1646f",
   "metadata": {},
   "outputs": [],
   "source": [
    "G = construct_chain(song)"
   ]
  },
  {
   "cell_type": "code",
   "execution_count": 6,
   "id": "11adfeac-a727-48d1-8acc-92e303d9f874",
   "metadata": {},
   "outputs": [],
   "source": [
    "def random_walk(G, start, length):\n",
    "    '''\n",
    "    Perform a random walk in G\n",
    "    of length 'length' starting at 'start'.\n",
    "    '''\n",
    "    \n",
    "    A = nx.to_numpy_array(G)\n",
    "    nodelist = list(G.nodes())\n",
    "    \n",
    "    if start not in nodelist:\n",
    "        raise Exception('Choose a valid start')\n",
    "    \n",
    "    i = 0\n",
    "    walk = [start]\n",
    "    \n",
    "    while i < length:\n",
    "        prob = A[nodelist.index(start)]\n",
    "        start = np.random.choice(nodelist, 1, p=prob)[0]\n",
    "        \n",
    "        walk.append(start)\n",
    "        \n",
    "        i+=1\n",
    "        \n",
    "    return walk        "
   ]
  },
  {
   "cell_type": "code",
   "execution_count": 7,
   "id": "a5dbbb0a-7476-4b1b-ab0d-8f42f9928adf",
   "metadata": {},
   "outputs": [
    {
     "data": {
      "text/plain": [
       "['0e',\n",
       " '3e',\n",
       " '5e-6B',\n",
       " '8e-6B',\n",
       " '10e-10B',\n",
       " '8e',\n",
       " '7e',\n",
       " '5e-5B',\n",
       " '15e-17B-17G',\n",
       " '12e-15B-14G',\n",
       " '16e-17B']"
      ]
     },
     "execution_count": 7,
     "metadata": {},
     "output_type": "execute_result"
    }
   ],
   "source": [
    "walk = random_walk(G, '0e', 10)\n",
    "walk"
   ]
  },
  {
   "cell_type": "code",
   "execution_count": 8,
   "id": "710b2a1d-8a33-4177-8c3c-dc67298ed1c9",
   "metadata": {},
   "outputs": [
    {
     "name": "stdout",
     "output_type": "stream",
     "text": [
      "e||--0--3--5--8--10--8--7--5--15--12--16--\n",
      "A||--------6--6--10--------5--17--15--17--\n",
      "D||---------------------------17--14------\n",
      "G||---------------------------------------\n",
      "B||---------------------------------------\n",
      "E||---------------------------------------\n",
      "\n"
     ]
    }
   ],
   "source": [
    "tab = render_tab(walk)\n",
    "print(tab)"
   ]
  },
  {
   "cell_type": "markdown",
   "id": "d67f23f4-3689-419d-96c1-27ac3a02d613",
   "metadata": {},
   "source": [
    "## With memory (of any order)"
   ]
  },
  {
   "cell_type": "code",
   "execution_count": 11,
   "id": "c9ef240c-f502-46d6-ac4c-48d58cdeb4f5",
   "metadata": {},
   "outputs": [
    {
     "name": "stdout",
     "output_type": "stream",
     "text": [
      "Traccia 1\n",
      "Measure key: CMajor\n",
      "Measure time signature: 3/4\n"
     ]
    }
   ],
   "source": [
    "LdG = line_datagraph(song)"
   ]
  },
  {
   "cell_type": "code",
   "execution_count": 33,
   "id": "9b458a1b-29be-4ee2-acbe-627ffc9e465f",
   "metadata": {},
   "outputs": [],
   "source": [
    "def random_walk_withmemory(LdG, start, length):\n",
    "    '''\n",
    "    Perform a random walk with memory in G\n",
    "    of length 'length' starting at 'start'.\n",
    "    Note: 'start' should be provided as n\n",
    "    consecutive notes joined by 'x'. \n",
    "    '''\n",
    "    \n",
    "    A = nx.to_numpy_array(LdG)\n",
    "    nodelist = list(LdG.nodes())\n",
    "    \n",
    "    if start not in nodelist:\n",
    "        raise Exception('Choose a valid start')\n",
    "    \n",
    "    i = 0\n",
    "    walk = [*start.split('x')]\n",
    "    \n",
    "    while i < length:\n",
    "        prob = A[nodelist.index(start)]\n",
    "        start = np.random.choice(nodelist, 1, p=prob)[0]\n",
    "        \n",
    "        next_node = start.split('x')[-1]\n",
    "        \n",
    "        walk.append(next_node)\n",
    "        \n",
    "        i += 1\n",
    "        \n",
    "    return walk"
   ]
  },
  {
   "cell_type": "code",
   "execution_count": 32,
   "id": "5f2d749f-bf61-4eac-892f-a6ceb59978db",
   "metadata": {},
   "outputs": [
    {
     "name": "stdout",
     "output_type": "stream",
     "text": [
      "e||--0--3--5--3--0--------5--8--10--8--7--\n",
      "A||--------6--5--3--------6--6--10--------\n",
      "D||-----------------5--7------------------\n",
      "G||--------------------9------------------\n",
      "B||---------------------------------------\n",
      "E||---------------------------------------\n",
      "\n"
     ]
    }
   ],
   "source": [
    "walk = random_walk_withmemory(LdG, '0ex3e', 10)\n",
    "tab = render_tab(walk)\n",
    "print(tab)"
   ]
  },
  {
   "cell_type": "code",
   "execution_count": null,
   "id": "7fc6a843-a5a3-4b17-9d5a-233c2eaa8107",
   "metadata": {},
   "outputs": [],
   "source": []
  }
 ],
 "metadata": {
  "kernelspec": {
   "display_name": "Python 3",
   "language": "python",
   "name": "python3"
  },
  "language_info": {
   "codemirror_mode": {
    "name": "ipython",
    "version": 3
   },
   "file_extension": ".py",
   "mimetype": "text/x-python",
   "name": "python",
   "nbconvert_exporter": "python",
   "pygments_lexer": "ipython3",
   "version": "3.10.8 (main, Nov  1 2022, 14:18:21) [GCC 12.2.0]"
  },
  "vscode": {
   "interpreter": {
    "hash": "e7370f93d1d0cde622a1f8e1c04877d8463912d04d973331ad4851f04de6915a"
   }
  }
 },
 "nbformat": 4,
 "nbformat_minor": 5
}
